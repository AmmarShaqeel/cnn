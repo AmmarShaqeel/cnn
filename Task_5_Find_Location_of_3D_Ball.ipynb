{
 "cells": [
  {
   "cell_type": "markdown",
   "metadata": {},
   "source": [
    "The following dataset is containing rhombus and squares. Please segment the image such, that you know for every pixel, if it belongs to a rhombus, square, or background. You can find a tutorial on image segmenation here:\n",
    "\n",
    "http://blog.qure.ai/notes/semantic-segmentation-deep-learning-review\n",
    "\n",
    "Best, use the SegNet approach (also see: https://arxiv.org/abs/1511.00561). You can also use other approaches, if you whish."
   ]
  },
  {
   "cell_type": "markdown",
   "metadata": {},
   "source": [
    "# Libraries"
   ]
  },
  {
   "cell_type": "code",
   "execution_count": 1,
   "metadata": {},
   "outputs": [],
   "source": [
    "from __future__ import division, print_function, unicode_literals\n",
    "\n",
    "import tensorflow as tf\n",
    "import numpy as np\n",
    "import math\n",
    "import random\n",
    "from sklearn.model_selection import train_test_split\n",
    "import matplotlib.pyplot as plt"
   ]
  },
  {
   "cell_type": "markdown",
   "metadata": {},
   "source": [
    "# Create Data"
   ]
  },
  {
   "cell_type": "markdown",
   "metadata": {},
   "source": [
    "The input images have size 32x32. Each image contains exactly one square and one circle. On top of that, gaussian noise has been added. The output images are a segmentation. For each pixel, there are 3 outputs (4th dimension). The segmentations are encoded as follows:\n",
    "\n",
    "-) [1,0,0]            Background\n",
    "\n",
    "-) [0,1,0]            Rhombus\n",
    "\n",
    "-) [0,0,1]            Square"
   ]
  },
  {
   "cell_type": "code",
   "execution_count": 2,
   "metadata": {},
   "outputs": [
    {
     "name": "stdout",
     "output_type": "stream",
     "text": [
      "Progress: 100.0%"
     ]
    }
   ],
   "source": [
    "# Define total number of samples\n",
    "tot_number_samples = 10000\n",
    "\n",
    "# Dimension of the images\n",
    "dim_image = 32\n",
    "\n",
    "# Object size\n",
    "obj_size = 5\n",
    "\n",
    "# Create a dataset randomly and calculate the necessary labels\n",
    "X = np.zeros((tot_number_samples,dim_image,dim_image,1),dtype=np.double)\n",
    "y = np.zeros((tot_number_samples,dim_image,dim_image,3),dtype=np.bool)\n",
    "\n",
    "# Add to every image a square and a circle\n",
    "for i in range(tot_number_samples):\n",
    "    # Give current status\n",
    "    print(\"\\rProgress: {:.1f}%\".format(100.*i/tot_number_samples), end='')\n",
    "    \n",
    "    # Find the locations of the circle and square, which do not overlap with each other\n",
    "    x_circle = random.randint(obj_size,dim_image-1-obj_size)\n",
    "    y_circle = random.randint(obj_size,dim_image-1-obj_size)\n",
    "    x_square = random.randint(obj_size,dim_image-1-obj_size)\n",
    "    y_square = random.randint(obj_size,dim_image-1-obj_size)\n",
    "    while math.fabs(x_circle-x_square) <= 2*obj_size and math.fabs(y_circle-y_square) <= 2*obj_size:\n",
    "        x_circle = random.randint(obj_size,dim_image-1-obj_size)\n",
    "        y_circle = random.randint(obj_size,dim_image-1-obj_size)\n",
    "        x_square = random.randint(obj_size,dim_image-1-obj_size)\n",
    "        y_square = random.randint(obj_size,dim_image-1-obj_size)\n",
    "    \n",
    "    # Decide for each pixel, if it is part of the circle/square or not \n",
    "    for xi in range(dim_image):\n",
    "        for yi in range(dim_image):\n",
    "            if math.fabs(xi-x_square)<=obj_size and math.fabs(yi-y_square)<=obj_size: # Part of square\n",
    "                X[i,xi,yi,0] = 1\n",
    "                y[i,xi,yi,2] = True\n",
    "            elif math.fabs(xi-x_circle)+math.fabs(yi-y_circle) <= obj_size: # Part of rhombus\n",
    "                X[i,xi,yi,0] = 1\n",
    "                y[i,xi,yi,1] = True\n",
    "            else:\n",
    "                y[i,xi,yi,0] = True\n",
    "    \n",
    "# Add noise\n",
    "X = np.random.normal(X,1./3)\n",
    "\n",
    "# Divide the dataset into a train and test set\n",
    "X_train, X_test, y_train, y_test = train_test_split(X, y, test_size=0.25) #25 % of data is in test set\n",
    "\n",
    "del X\n",
    "del y"
   ]
  },
  {
   "cell_type": "code",
   "execution_count": 3,
   "metadata": {},
   "outputs": [
    {
     "data": {
      "image/png": "[encoded data removed]",
      "text/plain": [
       "<matplotlib.figure.Figure at 0x7efe8a48b3d0>"
      ]
     },
     "metadata": {},
     "output_type": "display_data"
    }
   ],
   "source": [
    "# Plot the first few images (code from: https://github.com/ageron/handson-ml/blob/master/extra_capsnets.ipynb)\n",
    "\n",
    "n_samples = 8\n",
    "\n",
    "plt.figure(figsize=(n_samples * 2, 3))\n",
    "for index in range(n_samples):\n",
    "    plt.subplot(2, n_samples, index + 1)\n",
    "    plt.imshow(X_train[index,:,:,0], cmap=\"gray\")\n",
    "    plt.axis(\"off\")\n",
    "    \n",
    "    plt.subplot(2, n_samples, index + 1 + n_samples)\n",
    "    plt.imshow(y_train[index,:,:,:].astype(np.double))\n",
    "    plt.axis(\"off\")\n",
    "\n",
    "plt.show()"
   ]
  },
  {
   "cell_type": "markdown",
   "metadata": {},
   "source": [
    "# Implement The Model"
   ]
  },
  {
   "cell_type": "code",
   "execution_count": 4,
   "metadata": {},
   "outputs": [],
   "source": [
    "# Put code here"
   ]
  },
  {
   "cell_type": "markdown",
   "metadata": {},
   "source": [
    "# Train the Model"
   ]
  },
  {
   "cell_type": "code",
   "execution_count": 5,
   "metadata": {},
   "outputs": [],
   "source": [
    "# Put code here "
   ]
  }
 ],
 "metadata": {
  "kernelspec": {
   "display_name": "Python 3",
   "language": "python",
   "name": "python3"
  },
  "language_info": {
   "codemirror_mode": {
    "name": "ipython",
    "version": 3
   },
   "file_extension": ".py",
   "mimetype": "text/x-python",
   "name": "python",
   "nbconvert_exporter": "python",
   "pygments_lexer": "ipython3",
   "version": "3.6.7"
  }
 },
 "nbformat": 4,
 "nbformat_minor": 2
}
