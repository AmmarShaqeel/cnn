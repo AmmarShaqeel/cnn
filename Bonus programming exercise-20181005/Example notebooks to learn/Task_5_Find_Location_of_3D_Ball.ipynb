{
 "cells": [
  {
   "cell_type": "markdown",
   "metadata": {},
   "source": [
    "The following dataset is containing rhombus and squares. Please segment the image such, that you know for every pixel, if it belongs to a rhombus, square, or background. You can find a tutorial on image segmenation here:\n",
    "\n",
    "http://blog.qure.ai/notes/semantic-segmentation-deep-learning-review\n",
    "\n",
    "Best, use the SegNet approach (also see: https://arxiv.org/abs/1511.00561). You can also use other approaches, if you whish."
   ]
  },
  {
   "cell_type": "markdown",
   "metadata": {},
   "source": [
    "# Libraries"
   ]
  },
  {
   "cell_type": "code",
   "execution_count": 1,
   "metadata": {
    "scrolled": true
   },
   "outputs": [
    {
     "name": "stderr",
     "output_type": "stream",
     "text": [
      "Using TensorFlow backend.\n"
     ]
    }
   ],
   "source": [
    "from __future__ import division, print_function, unicode_literals\n",
    "\n",
    "import tensorflow as tf\n",
    "import numpy as np\n",
    "import math\n",
    "import random\n",
    "from sklearn.model_selection import train_test_split\n",
    "import matplotlib.pyplot as plt\n",
    "\n",
    "from keras.models import Sequential\n",
    "\n",
    "model = Sequential()\n",
    "\n",
    "\n",
    "from keras.layers import Dense,Conv2D,MaxPooling2D,MaxPooling1D"
   ]
  },
  {
   "cell_type": "markdown",
   "metadata": {},
   "source": [
    "# Create Data"
   ]
  },
  {
   "cell_type": "markdown",
   "metadata": {},
   "source": [
    "The input images have size 32x32. Each image contains exactly one square and one circle. On top of that, gaussian noise has been added. The output images are a segmentation. For each pixel, there are 3 outputs (4th dimension). The segmentations are encoded as follows:\n",
    "\n",
    "-) [1,0,0]            Background\n",
    "\n",
    "-) [0,1,0]            Rhombus\n",
    "\n",
    "-) [0,0,1]            Square"
   ]
  },
  {
   "cell_type": "code",
   "execution_count": 5,
   "metadata": {},
   "outputs": [
    {
     "name": "stdout",
     "output_type": "stream",
     "text": [
      "Progress: 100.0%"
     ]
    }
   ],
   "source": [
    "# Define total number of samples\n",
    "tot_number_samples = 10000\n",
    "\n",
    "# Dimension of the images\n",
    "dim_image = 32\n",
    "\n",
    "# Object size\n",
    "obj_size = 5\n",
    "\n",
    "# Create a dataset randomly and calculate the necessary labels\n",
    "X = np.zeros((tot_number_samples,dim_image,dim_image,1),dtype=np.double)\n",
    "y = np.zeros((tot_number_samples,dim_image,dim_image,3),dtype=np.bool)\n",
    "\n",
    "# Add to every image a square and a circle\n",
    "for i in range(tot_number_samples):\n",
    "    # Give current status\n",
    "    print(\"\\rProgress: {:.1f}%\".format(100.*i/tot_number_samples), end='')\n",
    "    \n",
    "    # Find the locations of the circle and square, which do not overlap with each other\n",
    "    x_circle = random.randint(obj_size,dim_image-1-obj_size)\n",
    "    y_circle = random.randint(obj_size,dim_image-1-obj_size)\n",
    "    x_square = random.randint(obj_size,dim_image-1-obj_size)\n",
    "    y_square = random.randint(obj_size,dim_image-1-obj_size)\n",
    "    while math.fabs(x_circle-x_square) <= 2*obj_size and math.fabs(y_circle-y_square) <= 2*obj_size:\n",
    "        x_circle = random.randint(obj_size,dim_image-1-obj_size)\n",
    "        y_circle = random.randint(obj_size,dim_image-1-obj_size)\n",
    "        x_square = random.randint(obj_size,dim_image-1-obj_size)\n",
    "        y_square = random.randint(obj_size,dim_image-1-obj_size)\n",
    "    \n",
    "    # Decide for each pixel, if it is part of the circle/square or not \n",
    "    for xi in range(dim_image):\n",
    "        for yi in range(dim_image):\n",
    "            if math.fabs(xi-x_square)<=obj_size and math.fabs(yi-y_square)<=obj_size: # Part of square\n",
    "                X[i,xi,yi,0] = 1\n",
    "                y[i,xi,yi,2] = True\n",
    "            elif math.fabs(xi-x_circle)+math.fabs(yi-y_circle) <= obj_size: # Part of rhombus\n",
    "                X[i,xi,yi,0] = 1\n",
    "                y[i,xi,yi,1] = True\n",
    "            else:\n",
    "                y[i,xi,yi,0] = True\n",
    "    \n",
    "# Add noise\n",
    "X = np.random.normal(X,1./3)\n",
    "\n",
    "# Divide the dataset into a train and test set\n",
    "X_train, X_test, y_train, y_test = train_test_split(X, y, test_size=0.25) #25 % of data is in test set\n",
    "\n",
    "del X\n",
    "del y"
   ]
  },
  {
   "cell_type": "code",
   "execution_count": 6,
   "metadata": {},
   "outputs": [
    {
     "data": {
      "image/png": "[encoded data removed]",
      "text/plain": [
       "<Figure size 1152x216 with 16 Axes>"
      ]
     },
     "metadata": {
      "needs_background": "light"
     },
     "output_type": "display_data"
    }
   ],
   "source": [
    "# Plot the first few images (code from: https://github.com/ageron/handson-ml/blob/master/extra_capsnets.ipynb)\n",
    "\n",
    "n_samples = 8\n",
    "\n",
    "plt.figure(figsize=(n_samples * 2, 3))\n",
    "for index in range(n_samples):\n",
    "    plt.subplot(2, n_samples, index + 1)\n",
    "    plt.imshow(X_train[index,:,:,0], cmap=\"gray\")\n",
    "    plt.axis(\"off\")\n",
    "    \n",
    "    plt.subplot(2, n_samples, index + 1 + n_samples)\n",
    "    plt.imshow(y_train[index,:,:,:].astype(np.double))\n",
    "    plt.axis(\"off\")\n",
    "\n",
    "plt.show()"
   ]
  },
  {
   "cell_type": "code",
   "execution_count": 7,
   "metadata": {},
   "outputs": [
    {
     "data": {
      "text/plain": [
       "(7500, 32, 32, 1)"
      ]
     },
     "execution_count": 7,
     "metadata": {},
     "output_type": "execute_result"
    }
   ],
   "source": [
    "X_train.shape"
   ]
  },
  {
   "cell_type": "markdown",
   "metadata": {},
   "source": [
    "# Implement The Model"
   ]
  },
  {
   "cell_type": "code",
   "execution_count": 21,
   "metadata": {},
   "outputs": [],
   "source": [
    "# Put code here\n",
    "#a_1     = tf.layers.dense(X*X,8,activation=tf.nn.relu,name=\"hidden_layer_1\")\n",
    "#a_2     = tf.layers.dense(a_1,8,activation=tf.nn.relu,name=\"hidden_layer_2\")\n",
    "#a_3     = tf.layers.dense(a_2,1,activation=tf.nn.tanh,name=\"output\")\n",
    "\n",
    "#y_pred  = tf.squeeze(a_3,1)\n",
    "# Labels\n",
    "y = tf.placeholder(shape=[128,32,32,3], dtype=tf.float32, name=\"y\") # Define y with tf.placeholder\n",
    "\n",
    "# Input layer\n",
    "X = tf.placeholder(\"float\", shape=[None,32,32,1]) # Define y with tf.placeholder\n",
    "\n",
    "conv1 = tf.layers.conv2d(inputs=X,\n",
    "                         filters=20,\n",
    "                         kernel_size=[5, 5],\n",
    "                         data_format='channels_last',\n",
    "                         padding=\"same\",\n",
    "                         activation=tf.nn.relu,\n",
    "                         use_bias=True,\n",
    "                         kernel_initializer=None,\n",
    "                         bias_initializer=tf.zeros_initializer(),\n",
    "                         kernel_regularizer=None)\n",
    "\n",
    "conv2 = tf.layers.conv2d(inputs=conv1,\n",
    "                         filters=20,\n",
    "                         kernel_size=[5, 5],\n",
    "                         data_format='channels_last',\n",
    "                         padding=\"same\",\n",
    "                         activation=tf.nn.relu,\n",
    "                         use_bias=True,\n",
    "                         kernel_initializer=None,\n",
    "                         bias_initializer=tf.zeros_initializer(),\n",
    "                         kernel_regularizer=None)\n",
    "\n",
    "  # Pooling Layer #1\n",
    "  # Input Tensor Shape: [batch_size, 32, 32, 20]\n",
    "  # Output Tensor Shape: [batch_size, 16, 16, 20]\n",
    "pool1 = tf.layers.max_pooling2d(inputs=conv2, pool_size=[2, 2], strides=2)\n",
    "\n",
    "#unpsampling\n",
    "unp1 = tf.image.resize_nearest_neighbor(pool1, (2*16,2*16))\n",
    "\n",
    "unconv1=tf.layers.conv2d_transpose(\n",
    "    unp1,\n",
    "    filters=10,\n",
    "    kernel_size=[4, 4],\n",
    "    strides=(1, 1),\n",
    "    padding='same',\n",
    "    data_format='channels_last',\n",
    "    activation=tf.nn.relu,\n",
    "    use_bias=True,\n",
    "    kernel_initializer=None,\n",
    "    bias_initializer=tf.zeros_initializer())\n",
    "unconv2=tf.layers.conv2d_transpose(\n",
    "    unconv1,\n",
    "    filters=1,\n",
    "    kernel_size=[4, 4],\n",
    "    strides=(1, 1),\n",
    "    padding='same',\n",
    "    data_format='channels_last',\n",
    "    activation=tf.nn.relu,\n",
    "    use_bias=True,\n",
    "    kernel_initializer=None,\n",
    "    bias_initializer=tf.zeros_initializer())\n",
    "\n",
    "y_pred=tf.nn.softmax(unconv2)\n",
    "  # Convolutional Layer #2\n",
    "  # Input Tensor Shape: [batch_size, 16, 16, 20]\n",
    "  # Output Tensor Shape: [batch_size, 16, 16, 50]\n",
    "#conv2 = tf.layers.conv2d(\n",
    " #     inputs=pool1,\n",
    "#      filters=50,\n",
    " #     kernel_size=[3, 3],\n",
    "  #    padding=\"same\",\n",
    "   #   activation=tf.nn.relu)\n",
    "\n",
    "  # Pooling Layer #2\n",
    "  # Input Tensor Shape: [batch_size, 16, 16, 50]\n",
    "  # Output Tensor Shape: [batch_size, 8, 8, 50]\n",
    "#pool2 = tf.layers.max_pooling2d(inputs=conv2, pool_size=[2, 2], strides=2)\n",
    "\n"
   ]
  },
  {
   "cell_type": "code",
   "execution_count": 22,
   "metadata": {},
   "outputs": [
    {
     "data": {
      "text/plain": [
       "<tf.Tensor 'Softmax_3:0' shape=(?, 32, 32, 1) dtype=float32>"
      ]
     },
     "execution_count": 22,
     "metadata": {},
     "output_type": "execute_result"
    }
   ],
   "source": [
    "y_pred\n"
   ]
  },
  {
   "cell_type": "markdown",
   "metadata": {},
   "source": [
    "# Train the Model"
   ]
  },
  {
   "cell_type": "code",
   "execution_count": 23,
   "metadata": {},
   "outputs": [],
   "source": [
    "# Put code here \n",
    "loss               = tf.reduce_mean((y_pred-y)*(y_pred-y),name=\"loss\" ) # Create a good loss function\n",
    "\n",
    "y_pred_group       = tf.cast(y_pred>0.5,dtype=tf.float32,name=\"y_pred_group\")\n",
    "correct            = tf.equal(y_pred_group*2-1,y, name=\"correct\")\n",
    "#accuracy           = tf.reduce_mean(tf.cast(correct, tf.float32), name=\"accuracy\")\n",
    "accuracy           = tf.cast(correct, tf.float32, name=\"accuracy\")\n",
    "\n",
    "#accuracy           = tf.metrics.accuracy(y_train,y)\n",
    "                                \n",
    "optimizer          = tf.train.AdamOptimizer()\n",
    "training_optimizer = optimizer.minimize(loss, name=\"training_optimizer\")\n",
    "\n",
    "init = tf.global_variables_initializer()\n",
    "saver = tf.train.Saver()\n"
   ]
  },
  {
   "cell_type": "code",
   "execution_count": 24,
   "metadata": {},
   "outputs": [
    {
     "name": "stdout",
     "output_type": "stream",
     "text": [
      "Epoch: 1  Val accuracy: 33.3333%  Loss: 0.666667 (improved)\n",
      "Epoch: 2  Val accuracy: 33.3333%  Loss: 0.666667\n",
      "Epoch: 3  Val accuracy: 33.3333%  Loss: 0.666667\n",
      "Epoch: 4  Val accuracy: 33.3333%  Loss: 0.666667\n",
      "Epoch: 5  Val accuracy: 33.3333%  Loss: 0.666667\n",
      "Epoch: 6  Val accuracy: 33.3333%  Loss: 0.666667\n",
      "Epoch: 7  Val accuracy: 33.3333%  Loss: 0.666667\n",
      "Epoch: 8  Val accuracy: 33.3333%  Loss: 0.666667\n",
      "Epoch: 9  Val accuracy: 33.3333%  Loss: 0.666667\n",
      "Epoch: 10  Val accuracy: 33.3333%  Loss: 0.666667\n",
      "Epoch: 11  Val accuracy: 33.3333%  Loss: 0.666667\n",
      "Epoch: 12  Val accuracy: 33.3333%  Loss: 0.666667\n",
      "Epoch: 13  Val accuracy: 33.3333%  Loss: 0.666667\n",
      "Epoch: 14  Val accuracy: 33.3333%  Loss: 0.666667\n",
      "Epoch: 15  Val accuracy: 33.3333%  Loss: 0.666667\n",
      "Epoch: 16  Val accuracy: 33.3333%  Loss: 0.666667\n",
      "Epoch: 17  Val accuracy: 33.3333%  Loss: 0.666667\n",
      "Epoch: 18  Val accuracy: 33.3333%  Loss: 0.666667\n",
      "Epoch: 19  Val accuracy: 33.3333%  Loss: 0.666667\n",
      "Epoch: 20  Val accuracy: 33.3333%  Loss: 0.666667\n",
      "Epoch: 21  Val accuracy: 33.3333%  Loss: 0.666667\n",
      "Epoch: 22  Val accuracy: 33.3333%  Loss: 0.666667\n",
      "Epoch: 23  Val accuracy: 33.3333%  Loss: 0.666667\n",
      "Epoch: 24  Val accuracy: 33.3333%  Loss: 0.666667\n",
      "Epoch: 25  Val accuracy: 33.3333%  Loss: 0.666667\n",
      "Epoch: 26  Val accuracy: 33.3333%  Loss: 0.666667\n",
      "Epoch: 27  Val accuracy: 33.3333%  Loss: 0.666667\n",
      "Epoch: 28  Val accuracy: 33.3333%  Loss: 0.666667\n",
      "Epoch: 29  Val accuracy: 33.3333%  Loss: 0.666667\n",
      "Epoch: 30  Val accuracy: 33.3333%  Loss: 0.666667\n",
      "Epoch: 31  Val accuracy: 33.3333%  Loss: 0.666667\n",
      "Epoch: 32  Val accuracy: 33.3333%  Loss: 0.666667\n",
      "Epoch: 33  Val accuracy: 33.3333%  Loss: 0.666667\n",
      "Epoch: 34  Val accuracy: 33.3333%  Loss: 0.666667\n",
      "Epoch: 35  Val accuracy: 33.3333%  Loss: 0.666667\n",
      "Epoch: 36  Val accuracy: 33.3333%  Loss: 0.666667\n",
      "Epoch: 37  Val accuracy: 33.3333%  Loss: 0.666667\n",
      "Epoch: 38  Val accuracy: 33.3333%  Loss: 0.666667\n",
      "Epoch: 39  Val accuracy: 33.3333%  Loss: 0.666667\n",
      "Epoch: 40  Val accuracy: 33.3333%  Loss: 0.666667\n",
      "Epoch: 41  Val accuracy: 33.3333%  Loss: 0.666667\n",
      "Epoch: 42  Val accuracy: 33.3333%  Loss: 0.666667\n",
      "Epoch: 43  Val accuracy: 33.3333%  Loss: 0.666667\n",
      "Epoch: 44  Val accuracy: 33.3333%  Loss: 0.666667\n",
      "Epoch: 45  Val accuracy: 33.3333%  Loss: 0.666667\n",
      "Epoch: 46  Val accuracy: 33.3333%  Loss: 0.666667\n",
      "Epoch: 47  Val accuracy: 33.3333%  Loss: 0.666667\n",
      "Epoch: 48  Val accuracy: 33.3333%  Loss: 0.666667\n",
      "Epoch: 49  Val accuracy: 33.3333%  Loss: 0.666667\n",
      "Epoch: 50  Val accuracy: 33.3333%  Loss: 0.666667\n",
      "Epoch: 51  Val accuracy: 33.3333%  Loss: 0.666667\n",
      "Epoch: 52  Val accuracy: 33.3333%  Loss: 0.666667\n",
      "Epoch: 53  Val accuracy: 33.3333%  Loss: 0.666667\n",
      "Epoch: 54  Val accuracy: 33.3333%  Loss: 0.666667\n",
      "Epoch: 55  Val accuracy: 33.3333%  Loss: 0.666667\n",
      "Epoch: 56  Val accuracy: 33.3333%  Loss: 0.666667\n",
      "Epoch: 57  Val accuracy: 33.3333%  Loss: 0.666667\n",
      "Epoch: 58  Val accuracy: 33.3333%  Loss: 0.666667\n",
      "Epoch: 59  Val accuracy: 33.3333%  Loss: 0.666667\n",
      "Epoch: 60  Val accuracy: 33.3333%  Loss: 0.666667\n",
      "Epoch: 61  Val accuracy: 33.3333%  Loss: 0.666667\n",
      "Epoch: 62  Val accuracy: 33.3333%  Loss: 0.666667\n",
      "Epoch: 63  Val accuracy: 33.3333%  Loss: 0.666667\n",
      "Epoch: 64  Val accuracy: 33.3333%  Loss: 0.666667\n",
      "Epoch: 65  Val accuracy: 33.3333%  Loss: 0.666667\n",
      "Epoch: 66  Val accuracy: 33.3333%  Loss: 0.666667\n",
      "Epoch: 67  Val accuracy: 33.3333%  Loss: 0.666667\n",
      "Epoch: 68  Val accuracy: 33.3333%  Loss: 0.666667\n",
      "Epoch: 69  Val accuracy: 33.3333%  Loss: 0.666667\n",
      "Epoch: 70  Val accuracy: 33.3333%  Loss: 0.666667\n",
      "Epoch: 71  Val accuracy: 33.3333%  Loss: 0.666667\n",
      "Epoch: 72  Val accuracy: 33.3333%  Loss: 0.666667\n",
      "Epoch: 73  Val accuracy: 33.3333%  Loss: 0.666667\n",
      "Epoch: 74  Val accuracy: 33.3333%  Loss: 0.666667\n",
      "Epoch: 75  Val accuracy: 33.3333%  Loss: 0.666667\n",
      "Epoch: 76  Val accuracy: 33.3333%  Loss: 0.666667\n",
      "Epoch: 77  Val accuracy: 33.3333%  Loss: 0.666667\n",
      "Epoch: 78  Val accuracy: 33.3333%  Loss: 0.666667\n",
      "Epoch: 79  Val accuracy: 33.3333%  Loss: 0.666667\n",
      "Epoch: 80  Val accuracy: 33.3333%  Loss: 0.666667\n",
      "Epoch: 81  Val accuracy: 33.3333%  Loss: 0.666667\n",
      "Epoch: 82  Val accuracy: 33.3333%  Loss: 0.666667\n",
      "Epoch: 83  Val accuracy: 33.3333%  Loss: 0.666667\n",
      "Epoch: 84  Val accuracy: 33.3333%  Loss: 0.666667\n",
      "Epoch: 85  Val accuracy: 33.3333%  Loss: 0.666667\n",
      "Epoch: 86  Val accuracy: 33.3333%  Loss: 0.666667\n",
      "Epoch: 87  Val accuracy: 33.3333%  Loss: 0.666667\n",
      "Epoch: 88  Val accuracy: 33.3333%  Loss: 0.666667\n",
      "Epoch: 89  Val accuracy: 33.3333%  Loss: 0.666667\n",
      "Epoch: 90  Val accuracy: 33.3333%  Loss: 0.666667\n",
      "Epoch: 91  Val accuracy: 33.3333%  Loss: 0.666667\n",
      "Epoch: 92  Val accuracy: 33.3333%  Loss: 0.666667\n",
      "Epoch: 93  Val accuracy: 33.3333%  Loss: 0.666667\n",
      "Epoch: 94  Val accuracy: 33.3333%  Loss: 0.666667\n",
      "Epoch: 95  Val accuracy: 33.3333%  Loss: 0.666667\n",
      "Epoch: 96  Val accuracy: 33.3333%  Loss: 0.666667\n",
      "Epoch: 97  Val accuracy: 33.3333%  Loss: 0.666667\n",
      "Epoch: 98  Val accuracy: 33.3333%  Loss: 0.666667\n",
      "Epoch: 99  Val accuracy: 33.3333%  Loss: 0.666667\n",
      "Epoch: 100  Val accuracy: 33.3333%  Loss: 0.666667\n"
     ]
    }
   ],
   "source": [
    "n_epochs                = 100\n",
    "batch_size              = 128\n",
    "\n",
    "n_iterations_per_epoch  = y_train.shape[0] // batch_size\n",
    "n_iterations_validation = y_test.shape[0] // batch_size\n",
    "best_loss_val           = np.infty\n",
    "\n",
    "checkpoint_path = \"./Task_3_network\"\n",
    "\n",
    "with tf.Session() as sess:\n",
    "    init.run()\n",
    "\n",
    "    for epoch in range(n_epochs):\n",
    "        for iteration in range(n_iterations_per_epoch):\n",
    "            X_batch = X_train[iteration*batch_size:(iteration+1)*batch_size,:]\n",
    "            y_batch = y_train[iteration*batch_size:(iteration+1)*batch_size]\n",
    "            \n",
    "            # Run the training operation and measure the loss:\n",
    "            _, loss_train = sess.run(\n",
    "                [training_optimizer, loss],\n",
    "                feed_dict={X:X_batch, y: y_batch })\n",
    "\n",
    "        # At the end of each epoch,\n",
    "        # measure the validation loss and accuracy:\n",
    "        loss_vals = []\n",
    "        acc_vals = []\n",
    "        for iteration in range(n_iterations_validation):\n",
    "            X_batch = X_test[iteration*batch_size:(iteration+1)*batch_size,:]\n",
    "            y_batch = y_test[iteration*batch_size:(iteration+1)*batch_size]\n",
    "            loss_val, acc_val = sess.run(\n",
    "                [loss, accuracy],\n",
    "                feed_dict={X: X_batch,y: y_batch})\n",
    "            loss_vals.append(loss_val)\n",
    "            acc_vals.append(acc_val)\n",
    "        loss_val = np.mean(loss_vals)\n",
    "        acc_val = np.mean(acc_vals)\n",
    "        print(\"\\rEpoch: {}  Val accuracy: {:.4f}%  Loss: {:.6f}{}\".format(\n",
    "            epoch+1, acc_val * 100, loss_val,\n",
    "            \" (improved)\" if loss_val < best_loss_val else \"\"))\n",
    "\n",
    "        # And save the model if it improved:\n",
    "        if loss_val < best_loss_val:\n",
    "            save_path = saver.save(sess, checkpoint_path)\n",
    "            best_loss_val = loss_val"
   ]
  }
 ],
 "metadata": {
  "kernelspec": {
   "display_name": "Python 3",
   "language": "python",
   "name": "python3"
  },
  "language_info": {
   "codemirror_mode": {
    "name": "ipython",
    "version": 3
   },
   "file_extension": ".py",
   "mimetype": "text/x-python",
   "name": "python",
   "nbconvert_exporter": "python",
   "pygments_lexer": "ipython3",
   "version": "3.6.7"
  }
 },
 "nbformat": 4,
 "nbformat_minor": 2
}
