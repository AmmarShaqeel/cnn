{
 "cells": [
  {
   "cell_type": "markdown",
   "metadata": {},
   "source": [
    "In this task you will be creating a convolutional neural network (CNN). You will be using the MNIST dataset. It contains 60.000 handwritten numbers saved in images (28x28 pixels). Your network needs to find out, what numbers from 0 to 9 the network is representing.\n",
    "\n",
    "Please implement the code given in the following tutorial in this notebook:\n",
    "\n",
    "https://www.tensorflow.org/tutorials/layers\n",
    "\n",
    "Note: The way the network is trained in this tutorial is slightly different from the way it has been done so far."
   ]
  },
  {
   "cell_type": "code",
   "execution_count": 1,
   "metadata": {},
   "outputs": [],
   "source": [
    "# Write Code here"
   ]
  }
 ],
 "metadata": {
  "kernelspec": {
   "display_name": "Python 3",
   "language": "python",
   "name": "python3"
  },
  "language_info": {
   "codemirror_mode": {
    "name": "ipython",
    "version": 3
   },
   "file_extension": ".py",
   "mimetype": "text/x-python",
   "name": "python",
   "nbconvert_exporter": "python",
   "pygments_lexer": "ipython3",
   "version": "3.6.7"
  }
 },
 "nbformat": 4,
 "nbformat_minor": 2
}
